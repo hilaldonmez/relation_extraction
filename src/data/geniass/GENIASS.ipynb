{
 "cells": [
  {
   "cell_type": "code",
   "execution_count": 1,
   "metadata": {
    "collapsed": true
   },
   "outputs": [],
   "source": [
    "import pickle\n",
    "import pandas as pd\n",
    "import numpy as np\n",
    "import sys\n",
    "sys.path.insert(0, '../..')\n",
    "import os\n",
    "import subprocess\n",
    "from importlib import reload\n",
    "import pickle"
   ]
  },
  {
   "cell_type": "code",
   "execution_count": 2,
   "metadata": {
    "collapsed": false
   },
   "outputs": [
    {
     "data": {
      "text/html": [
       "<div>\n",
       "<style scoped>\n",
       "    .dataframe tbody tr th:only-of-type {\n",
       "        vertical-align: middle;\n",
       "    }\n",
       "\n",
       "    .dataframe tbody tr th {\n",
       "        vertical-align: top;\n",
       "    }\n",
       "\n",
       "    .dataframe thead th {\n",
       "        text-align: right;\n",
       "    }\n",
       "</style>\n",
       "<table border=\"1\" class=\"dataframe\">\n",
       "  <thead>\n",
       "    <tr style=\"text-align: right;\">\n",
       "      <th></th>\n",
       "      <th>article_id</th>\n",
       "      <th>title</th>\n",
       "      <th>abstract</th>\n",
       "    </tr>\n",
       "  </thead>\n",
       "  <tbody>\n",
       "    <tr>\n",
       "      <th>0</th>\n",
       "      <td>10064839</td>\n",
       "      <td>Binding of dimemorfan to sigma-1 receptor and ...</td>\n",
       "      <td>Dextromethorphan ((+)-3-methoxy-N-methylmorphi...</td>\n",
       "    </tr>\n",
       "    <tr>\n",
       "      <th>1</th>\n",
       "      <td>10082498</td>\n",
       "      <td>Angiotensin II receptor blockade in normotensi...</td>\n",
       "      <td>Use of angiotensin (Ang) II AT1 receptor antag...</td>\n",
       "    </tr>\n",
       "    <tr>\n",
       "      <th>2</th>\n",
       "      <td>10193663</td>\n",
       "      <td>Characterisation of the 5-HT receptor binding ...</td>\n",
       "      <td>The affinity of eletriptan ((R)-3-(1-methyl-2-...</td>\n",
       "    </tr>\n",
       "    <tr>\n",
       "      <th>3</th>\n",
       "      <td>10193665</td>\n",
       "      <td>Pharmacological profile of neuroleptics at hum...</td>\n",
       "      <td>Using radioligand binding techniques, we deter...</td>\n",
       "    </tr>\n",
       "    <tr>\n",
       "      <th>4</th>\n",
       "      <td>10226872</td>\n",
       "      <td>Disodium cromoglycate does not prevent terbuta...</td>\n",
       "      <td>In humans, prolonged administration of the bet...</td>\n",
       "    </tr>\n",
       "  </tbody>\n",
       "</table>\n",
       "</div>"
      ],
      "text/plain": [
       "   article_id                                              title  \\\n",
       "0    10064839  Binding of dimemorfan to sigma-1 receptor and ...   \n",
       "1    10082498  Angiotensin II receptor blockade in normotensi...   \n",
       "2    10193663  Characterisation of the 5-HT receptor binding ...   \n",
       "3    10193665  Pharmacological profile of neuroleptics at hum...   \n",
       "4    10226872  Disodium cromoglycate does not prevent terbuta...   \n",
       "\n",
       "                                            abstract  \n",
       "0  Dextromethorphan ((+)-3-methoxy-N-methylmorphi...  \n",
       "1  Use of angiotensin (Ang) II AT1 receptor antag...  \n",
       "2  The affinity of eletriptan ((R)-3-(1-methyl-2-...  \n",
       "3  Using radioligand binding techniques, we deter...  \n",
       "4  In humans, prolonged administration of the bet...  "
      ]
     },
     "execution_count": 2,
     "metadata": {},
     "output_type": "execute_result"
    }
   ],
   "source": [
    "colnames=['article_id', 'title', 'abstract']\n",
    "        \n",
    "df_abst = pd.read_csv(\"/home/hilal/Documents/chem_relation_extractor/data/chemprot_development/chemprot_development_abstracts.tsv\", sep=\"\\t\", names=colnames, header=None)\n",
    "df_abst.head()"
   ]
  },
  {
   "cell_type": "code",
   "execution_count": 11,
   "metadata": {
    "collapsed": false
   },
   "outputs": [],
   "source": [
    "for i in df_abst.index:\n",
    "    file = open( \"input_dev/\" + str(df_abst.loc[i,'article_id']) + \".txt\", \"w\")\n",
    "    article_id = df_abst.loc[i,'article_id']\n",
    "    inp = list(df_abst[df_abst['article_id'] == article_id]['title'] + ' ' + df_abst[df_abst['article_id'] == article_id]['abstract'])[0]\n",
    "    file.write(inp)\n"
   ]
  },
  {
   "cell_type": "code",
   "execution_count": 12,
   "metadata": {
    "collapsed": false
   },
   "outputs": [],
   "source": [
    "for i in df_abst.index:\n",
    "    cmd = \"./geniass \"+ \"input_dev/\" + str(df_abst.loc[i,'article_id']) + \".txt \" + \"output_dev/\" + str(df_abst.loc[i,'article_id']) + \"_o.txt\"\n",
    "    output = subprocess.check_output(cmd, shell = True)\n",
    "    lines = output.decode().split(\"\\n\")\n",
    "    output = [i.split('\\t')[0] for i in lines if i.split('\\t')[0]]\n",
    "    file.close()\n"
   ]
  },
  {
   "cell_type": "code",
   "execution_count": 13,
   "metadata": {
    "collapsed": false
   },
   "outputs": [],
   "source": [
    "df_sentence = df_abst[['article_id']].copy()\n",
    "df_sentence['sent_id'] = 0\n",
    "df_sentence['sentence'] = ''\n",
    "\n",
    "for i in df_abst.index:\n",
    "    file = open(\"output_dev/\"+str(df_abst.loc[i,'article_id']) + \"_o.txt\", \"r\")\n",
    "    sent_list = file.readlines()\n",
    "    df_temp = pd.DataFrame({'article_id':df_abst.loc[i,'article_id'], 'sent_id':np.arange(len(sent_list)) })\n",
    "    for j in range(len(sent_list)):\n",
    "        df_temp.loc[df_temp['sent_id'] == j, 'sentence'] = sent_list[j].replace('\\n', '')\n",
    "    df_sentence = df_sentence.append([df_temp])\n",
    "    \n",
    "df_sentence.drop_duplicates(subset = ['article_id', 'sent_id'], keep = 'last', inplace = True)\n",
    "   "
   ]
  },
  {
   "cell_type": "code",
   "execution_count": 14,
   "metadata": {
    "collapsed": false
   },
   "outputs": [],
   "source": [
    "with open('geniass_sentence_split_development.pickle', 'wb' ) as f:\n",
    "    pickle.dump(df_sentence, f, protocol = pickle.HIGHEST_PROTOCOL)"
   ]
  }
 ],
 "metadata": {
  "anaconda-cloud": {},
  "kernelspec": {
   "display_name": "Python [conda env:anaconda3]",
   "language": "python",
   "name": "conda-env-anaconda3-py"
  },
  "language_info": {
   "codemirror_mode": {
    "name": "ipython",
    "version": 3
   },
   "file_extension": ".py",
   "mimetype": "text/x-python",
   "name": "python",
   "nbconvert_exporter": "python",
   "pygments_lexer": "ipython3",
   "version": "3.5.5"
  }
 },
 "nbformat": 4,
 "nbformat_minor": 1
}

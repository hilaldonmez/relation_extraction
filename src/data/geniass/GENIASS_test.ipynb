{
 "cells": [
  {
   "cell_type": "code",
   "execution_count": 9,
   "metadata": {
    "collapsed": true
   },
   "outputs": [],
   "source": [
    "import pickle\n",
    "import pandas as pd\n",
    "import numpy as np\n",
    "import sys\n",
    "sys.path.insert(0, '../..')\n",
    "import os\n",
    "import subprocess\n",
    "from importlib import reload\n",
    "import pickle"
   ]
  },
  {
   "cell_type": "code",
   "execution_count": 19,
   "metadata": {
    "collapsed": false
   },
   "outputs": [
    {
     "data": {
      "text/html": [
       "<div>\n",
       "<style scoped>\n",
       "    .dataframe tbody tr th:only-of-type {\n",
       "        vertical-align: middle;\n",
       "    }\n",
       "\n",
       "    .dataframe tbody tr th {\n",
       "        vertical-align: top;\n",
       "    }\n",
       "\n",
       "    .dataframe thead th {\n",
       "        text-align: right;\n",
       "    }\n",
       "</style>\n",
       "<table border=\"1\" class=\"dataframe\">\n",
       "  <thead>\n",
       "    <tr style=\"text-align: right;\">\n",
       "      <th></th>\n",
       "      <th>article_id</th>\n",
       "      <th>title</th>\n",
       "      <th>abstract</th>\n",
       "    </tr>\n",
       "  </thead>\n",
       "  <tbody>\n",
       "    <tr>\n",
       "      <th>0</th>\n",
       "      <td>10076535</td>\n",
       "      <td>Androgen antagonistic effect of estramustine p...</td>\n",
       "      <td>Estramustine phosphate is used frequently, alo...</td>\n",
       "    </tr>\n",
       "    <tr>\n",
       "      <th>1</th>\n",
       "      <td>10089512</td>\n",
       "      <td>Static Laue diffraction studies on acetylcholi...</td>\n",
       "      <td>Acetylcholinesterase (AChE) is one of nature's...</td>\n",
       "    </tr>\n",
       "    <tr>\n",
       "      <th>2</th>\n",
       "      <td>10201371</td>\n",
       "      <td>Synthesis of thrombin-inhibiting heparin mimet...</td>\n",
       "      <td>Unwanted side effects of pharmacologically act...</td>\n",
       "    </tr>\n",
       "    <tr>\n",
       "      <th>3</th>\n",
       "      <td>10220509</td>\n",
       "      <td>Selective inhibition of cyclooxygenase 2 spare...</td>\n",
       "      <td>BACKGROUND &amp; AIMS: The critical role of cycloo...</td>\n",
       "    </tr>\n",
       "    <tr>\n",
       "      <th>4</th>\n",
       "      <td>10351938</td>\n",
       "      <td>Inhibition of cPLA2 translocation and leukotri...</td>\n",
       "      <td>We examined the effect of the highly lipophili...</td>\n",
       "    </tr>\n",
       "  </tbody>\n",
       "</table>\n",
       "</div>"
      ],
      "text/plain": [
       "   article_id                                              title  \\\n",
       "0    10076535  Androgen antagonistic effect of estramustine p...   \n",
       "1    10089512  Static Laue diffraction studies on acetylcholi...   \n",
       "2    10201371  Synthesis of thrombin-inhibiting heparin mimet...   \n",
       "3    10220509  Selective inhibition of cyclooxygenase 2 spare...   \n",
       "4    10351938  Inhibition of cPLA2 translocation and leukotri...   \n",
       "\n",
       "                                            abstract  \n",
       "0  Estramustine phosphate is used frequently, alo...  \n",
       "1  Acetylcholinesterase (AChE) is one of nature's...  \n",
       "2  Unwanted side effects of pharmacologically act...  \n",
       "3  BACKGROUND & AIMS: The critical role of cycloo...  \n",
       "4  We examined the effect of the highly lipophili...  "
      ]
     },
     "execution_count": 19,
     "metadata": {},
     "output_type": "execute_result"
    }
   ],
   "source": [
    "colnames=['article_id', 'title', 'abstract']\n",
    "        \n",
    "df_abst = pd.read_csv(\"/home/hilal/Documents/chem_relation_extractor/data/chemprot_test_gs/chemprot_test_abstracts_gs.tsv\", sep=\"\\t\", names=colnames, header=None)\n",
    "df_abst.head()"
   ]
  },
  {
   "cell_type": "code",
   "execution_count": 27,
   "metadata": {
    "collapsed": false
   },
   "outputs": [],
   "source": [
    "with open('../../pickles/changed_id_article_frame.pickle', 'rb') as f:\n",
    "    df_abst = pickle.load(f)"
   ]
  },
  {
   "cell_type": "code",
   "execution_count": 20,
   "metadata": {
    "collapsed": true
   },
   "outputs": [],
   "source": [
    "for i in df_abst.index:\n",
    "    file = open( \"input_test_gs/\" + str(df_abst.loc[i,'article_id']) + \".txt\", \"w\")\n",
    "    article_id = df_abst.loc[i,'article_id']\n",
    "    inp = list(df_abst[df_abst['article_id'] == article_id]['title'] + ' ' + df_abst[df_abst['article_id'] == article_id]['abstract'])[0]\n",
    "    file.write(inp)\n"
   ]
  },
  {
   "cell_type": "code",
   "execution_count": 21,
   "metadata": {
    "collapsed": false
   },
   "outputs": [],
   "source": [
    "for i in df_abst.index:\n",
    "    cmd = \"./geniass \"+ \"input_test_gs/\" + str(df_abst.loc[i,'article_id']) + \".txt \" + \"output_test_gs/\" + str(df_abst.loc[i,'article_id']) + \"_o.txt\"\n",
    "    output = subprocess.check_output(cmd, shell = True)\n",
    "    lines = output.decode().split(\"\\n\")\n",
    "    output = [i.split('\\t')[0] for i in lines if i.split('\\t')[0]]\n",
    "    file.close()\n"
   ]
  },
  {
   "cell_type": "code",
   "execution_count": 22,
   "metadata": {
    "collapsed": false
   },
   "outputs": [],
   "source": [
    "df_sentence = df_abst[['article_id']].copy()\n",
    "df_sentence['sent_id'] = 0\n",
    "df_sentence['sentence'] = ''\n",
    "\n",
    "for i in df_abst.index:\n",
    "    file = open(\"output_test_gs/\"+str(df_abst.loc[i,'article_id']) + \"_o.txt\", \"r\")\n",
    "    sent_list = file.readlines()\n",
    "    df_temp = pd.DataFrame({'article_id':df_abst.loc[i,'article_id'], 'sent_id':np.arange(len(sent_list)) })\n",
    "    for j in range(len(sent_list)):\n",
    "        df_temp.loc[df_temp['sent_id'] == j, 'sentence'] = sent_list[j].replace('\\n', '')\n",
    "    df_sentence = df_sentence.append([df_temp])\n",
    "    \n",
    "df_sentence.drop_duplicates(subset = ['article_id', 'sent_id'], keep = 'last', inplace = True)\n",
    "   "
   ]
  },
  {
   "cell_type": "code",
   "execution_count": 23,
   "metadata": {
    "collapsed": false
   },
   "outputs": [],
   "source": [
    "with open('../../pickles/geniass_sentence_split_frame_test_gs.pickle', 'wb' ) as f:\n",
    "    pickle.dump(df_sentence, f, protocol = pickle.HIGHEST_PROTOCOL)"
   ]
  }
 ],
 "metadata": {
  "anaconda-cloud": {},
  "kernelspec": {
   "display_name": "Python [conda env:anaconda3]",
   "language": "python",
   "name": "conda-env-anaconda3-py"
  },
  "language_info": {
   "codemirror_mode": {
    "name": "ipython",
    "version": 3
   },
   "file_extension": ".py",
   "mimetype": "text/x-python",
   "name": "python",
   "nbconvert_exporter": "python",
   "pygments_lexer": "ipython3",
   "version": "3.5.5"
  }
 },
 "nbformat": 4,
 "nbformat_minor": 1
}

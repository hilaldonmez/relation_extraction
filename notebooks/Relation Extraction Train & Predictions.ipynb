{
 "cells": [
  {
   "cell_type": "markdown",
   "metadata": {},
   "source": [
    "## Training and Prediction Codes for Relation Extraction Models "
   ]
  },
  {
   "cell_type": "code",
   "execution_count": 2,
   "metadata": {
    "scrolled": true
   },
   "outputs": [
    {
     "name": "stdout",
     "output_type": "stream",
     "text": [
      "Defaulting to user installation because normal site-packages is not writeable\n",
      "Requirement already satisfied: transformers==3.5.1 in /home/akoksal/.local/lib/python3.8/site-packages (3.5.1)\n",
      "Requirement already satisfied: requests in /home/akoksal/.local/lib/python3.8/site-packages (from transformers==3.5.1) (2.25.1)\n",
      "Requirement already satisfied: protobuf in /home/akoksal/.local/lib/python3.8/site-packages (from transformers==3.5.1) (3.14.0)\n",
      "Requirement already satisfied: filelock in /home/akoksal/.local/lib/python3.8/site-packages (from transformers==3.5.1) (3.0.12)\n",
      "Requirement already satisfied: packaging in /home/akoksal/.local/lib/python3.8/site-packages (from transformers==3.5.1) (21.0)\n",
      "Requirement already satisfied: tokenizers==0.9.3 in /home/akoksal/.local/lib/python3.8/site-packages (from transformers==3.5.1) (0.9.3)\n",
      "Requirement already satisfied: regex!=2019.12.17 in /home/akoksal/.local/lib/python3.8/site-packages (from transformers==3.5.1) (2020.11.13)\n",
      "Requirement already satisfied: sacremoses in /home/akoksal/.local/lib/python3.8/site-packages (from transformers==3.5.1) (0.0.43)\n",
      "Requirement already satisfied: sentencepiece==0.1.91 in /home/akoksal/.local/lib/python3.8/site-packages (from transformers==3.5.1) (0.1.91)\n",
      "Requirement already satisfied: tqdm>=4.27 in /home/akoksal/.local/lib/python3.8/site-packages (from transformers==3.5.1) (4.49.0)\n",
      "Requirement already satisfied: numpy in /home/akoksal/.local/lib/python3.8/site-packages (from transformers==3.5.1) (1.18.5)\n",
      "Requirement already satisfied: pyparsing>=2.0.2 in /home/akoksal/.local/lib/python3.8/site-packages (from packaging->transformers==3.5.1) (2.4.7)\n",
      "Requirement already satisfied: six>=1.9 in /home/akoksal/.local/lib/python3.8/site-packages (from protobuf->transformers==3.5.1) (1.15.0)\n",
      "Requirement already satisfied: chardet<5,>=3.0.2 in /usr/lib/python3/dist-packages (from requests->transformers==3.5.1) (3.0.4)\n",
      "Requirement already satisfied: idna<3,>=2.5 in /home/akoksal/.local/lib/python3.8/site-packages (from requests->transformers==3.5.1) (2.10)\n",
      "Requirement already satisfied: certifi>=2017.4.17 in /usr/lib/python3/dist-packages (from requests->transformers==3.5.1) (2018.1.18)\n",
      "Requirement already satisfied: urllib3<1.27,>=1.21.1 in /usr/lib/python3/dist-packages (from requests->transformers==3.5.1) (1.22)\n",
      "Requirement already satisfied: joblib in /home/akoksal/.local/lib/python3.8/site-packages (from sacremoses->transformers==3.5.1) (1.0.0)\n",
      "Requirement already satisfied: click in /usr/lib/python3/dist-packages (from sacremoses->transformers==3.5.1) (6.7)\n",
      "\u001b[33mWARNING: You are using pip version 20.3.3; however, version 21.2.4 is available.\n",
      "You should consider upgrading via the '/usr/bin/python3 -m pip install --upgrade pip' command.\u001b[0m\n"
     ]
    }
   ],
   "source": [
    "!pip3 install transformers==3.5.1"
   ]
  },
  {
   "cell_type": "code",
   "execution_count": 3,
   "metadata": {},
   "outputs": [],
   "source": [
    "import sys\n",
    "sys.path.insert(0, '../')\n",
    "import pandas as pd\n",
    "from importlib import reload\n",
    "import numpy as np\n",
    "from pprint import pprint\n",
    "import re\n",
    "from collections import defaultdict\n",
    "import json\n",
    "import pickle"
   ]
  },
  {
   "cell_type": "code",
   "execution_count": 4,
   "metadata": {},
   "outputs": [
    {
     "name": "stdout",
     "output_type": "stream",
     "text": [
      "cuda\n",
      "cuda\n",
      "cuda\n",
      "cuda\n"
     ]
    },
    {
     "data": {
      "text/plain": [
       "<module 'src.models.train_binary_classification' from '../src/models/train_binary_classification.py'>"
      ]
     },
     "execution_count": 4,
     "metadata": {},
     "output_type": "execute_result"
    }
   ],
   "source": [
    "import src.data.config as cf\n",
    "import src.data.read_data as rd\n",
    "import src.data.preprocess as pr\n",
    "import src.models.train_binary_classification as clf\n",
    "import src.models.prediction as pred\n",
    "reload(clf)"
   ]
  },
  {
   "cell_type": "markdown",
   "metadata": {},
   "source": [
    "## Read data set"
   ]
  },
  {
   "cell_type": "markdown",
   "metadata": {},
   "source": [
    "Read training set with the following code:"
   ]
  },
  {
   "cell_type": "code",
   "execution_count": 25,
   "metadata": {
    "scrolled": true
   },
   "outputs": [
    {
     "data": {
      "text/html": [
       "<div>\n",
       "<style scoped>\n",
       "    .dataframe tbody tr th:only-of-type {\n",
       "        vertical-align: middle;\n",
       "    }\n",
       "\n",
       "    .dataframe tbody tr th {\n",
       "        vertical-align: top;\n",
       "    }\n",
       "\n",
       "    .dataframe thead th {\n",
       "        text-align: right;\n",
       "    }\n",
       "</style>\n",
       "<table border=\"1\" class=\"dataframe\">\n",
       "  <thead>\n",
       "    <tr style=\"text-align: right;\">\n",
       "      <th></th>\n",
       "      <th>article_id</th>\n",
       "      <th>title</th>\n",
       "      <th>abstract</th>\n",
       "    </tr>\n",
       "  </thead>\n",
       "  <tbody>\n",
       "    <tr>\n",
       "      <th>0</th>\n",
       "      <td>16357751</td>\n",
       "      <td>Selective costimulation modulators: a novel ap...</td>\n",
       "      <td>T cells have a central role in the orchestrati...</td>\n",
       "    </tr>\n",
       "    <tr>\n",
       "      <th>1</th>\n",
       "      <td>14967461</td>\n",
       "      <td>Emerging role of epidermal growth factor recep...</td>\n",
       "      <td>Combination chemotherapy regimens have emerged...</td>\n",
       "    </tr>\n",
       "    <tr>\n",
       "      <th>2</th>\n",
       "      <td>23468099</td>\n",
       "      <td>Effects of chronic social defeat stress on beh...</td>\n",
       "      <td>RATIONALE: Social defeat stress induces physio...</td>\n",
       "    </tr>\n",
       "    <tr>\n",
       "      <th>3</th>\n",
       "      <td>23293962</td>\n",
       "      <td>Hepatocyte growth factor activator inhibitor t...</td>\n",
       "      <td>Matriptase-2, a recently identified cell surfa...</td>\n",
       "    </tr>\n",
       "    <tr>\n",
       "      <th>4</th>\n",
       "      <td>7678677</td>\n",
       "      <td>Alprenolol and bromoacetylalprenololmenthane a...</td>\n",
       "      <td>We studied the effects of alprenolol and bromo...</td>\n",
       "    </tr>\n",
       "  </tbody>\n",
       "</table>\n",
       "</div>"
      ],
      "text/plain": [
       "   article_id                                              title  \\\n",
       "0    16357751  Selective costimulation modulators: a novel ap...   \n",
       "1    14967461  Emerging role of epidermal growth factor recep...   \n",
       "2    23468099  Effects of chronic social defeat stress on beh...   \n",
       "3    23293962  Hepatocyte growth factor activator inhibitor t...   \n",
       "4     7678677  Alprenolol and bromoacetylalprenololmenthane a...   \n",
       "\n",
       "                                            abstract  \n",
       "0  T cells have a central role in the orchestrati...  \n",
       "1  Combination chemotherapy regimens have emerged...  \n",
       "2  RATIONALE: Social defeat stress induces physio...  \n",
       "3  Matriptase-2, a recently identified cell surfa...  \n",
       "4  We studied the effects of alprenolol and bromo...  "
      ]
     },
     "execution_count": 25,
     "metadata": {},
     "output_type": "execute_result"
    }
   ],
   "source": [
    "df_ent, df_abst, df_relation, df_gold = rd.read_all_data('train')\n",
    "df_abst.head()"
   ]
  },
  {
   "cell_type": "markdown",
   "metadata": {},
   "source": [
    "Read the sentences that were splitted with GENIA sentence splitter"
   ]
  },
  {
   "cell_type": "code",
   "execution_count": 26,
   "metadata": {},
   "outputs": [],
   "source": [
    "with open('../pickles/geniass_sentence_split_frame.pickle', 'rb') as handle:\n",
    "       df_sentences = pickle.load(handle)"
   ]
  },
  {
   "cell_type": "markdown",
   "metadata": {},
   "source": [
    "### Train a relation extraction model with train data "
   ]
  },
  {
   "cell_type": "code",
   "execution_count": 27,
   "metadata": {
    "scrolled": true
   },
   "outputs": [
    {
     "name": "stderr",
     "output_type": "stream",
     "text": [
      "/home/akoksal/.local/lib/python3.8/site-packages/pandas/core/indexing.py:1719: SettingWithCopyWarning: \n",
      "A value is trying to be set on a copy of a slice from a DataFrame.\n",
      "Try using .loc[row_indexer,col_indexer] = value instead\n",
      "\n",
      "See the caveats in the documentation: https://pandas.pydata.org/pandas-docs/stable/user_guide/indexing.html#returning-a-view-versus-a-copy\n",
      "  self._setitem_single_column(loc, value, pi)\n",
      "/home/akoksal/.local/lib/python3.8/site-packages/pandas/core/indexing.py:1719: SettingWithCopyWarning: \n",
      "A value is trying to be set on a copy of a slice from a DataFrame.\n",
      "Try using .loc[row_indexer,col_indexer] = value instead\n",
      "\n",
      "See the caveats in the documentation: https://pandas.pydata.org/pandas-docs/stable/user_guide/indexing.html#returning-a-view-versus-a-copy\n",
      "  self._setitem_single_column(loc, value, pi)\n",
      "/home/akoksal/.local/lib/python3.8/site-packages/pandas/core/indexing.py:1719: SettingWithCopyWarning: \n",
      "A value is trying to be set on a copy of a slice from a DataFrame.\n",
      "Try using .loc[row_indexer,col_indexer] = value instead\n",
      "\n",
      "See the caveats in the documentation: https://pandas.pydata.org/pandas-docs/stable/user_guide/indexing.html#returning-a-view-versus-a-copy\n",
      "  self._setitem_single_column(loc, value, pi)\n",
      "/home/akoksal/.local/lib/python3.8/site-packages/pandas/core/indexing.py:1719: SettingWithCopyWarning: \n",
      "A value is trying to be set on a copy of a slice from a DataFrame.\n",
      "Try using .loc[row_indexer,col_indexer] = value instead\n",
      "\n",
      "See the caveats in the documentation: https://pandas.pydata.org/pandas-docs/stable/user_guide/indexing.html#returning-a-view-versus-a-copy\n",
      "  self._setitem_single_column(loc, value, pi)\n",
      "/home/akoksal/.local/lib/python3.8/site-packages/pandas/core/indexing.py:1719: SettingWithCopyWarning: \n",
      "A value is trying to be set on a copy of a slice from a DataFrame.\n",
      "Try using .loc[row_indexer,col_indexer] = value instead\n",
      "\n",
      "See the caveats in the documentation: https://pandas.pydata.org/pandas-docs/stable/user_guide/indexing.html#returning-a-view-versus-a-copy\n",
      "  self._setitem_single_column(loc, value, pi)\n",
      "/home/akoksal/.local/lib/python3.8/site-packages/pandas/core/indexing.py:1719: SettingWithCopyWarning: \n",
      "A value is trying to be set on a copy of a slice from a DataFrame.\n",
      "Try using .loc[row_indexer,col_indexer] = value instead\n",
      "\n",
      "See the caveats in the documentation: https://pandas.pydata.org/pandas-docs/stable/user_guide/indexing.html#returning-a-view-versus-a-copy\n",
      "  self._setitem_single_column(loc, value, pi)\n",
      "/home/akoksal/.local/lib/python3.8/site-packages/pandas/core/indexing.py:1719: SettingWithCopyWarning: \n",
      "A value is trying to be set on a copy of a slice from a DataFrame.\n",
      "Try using .loc[row_indexer,col_indexer] = value instead\n",
      "\n",
      "See the caveats in the documentation: https://pandas.pydata.org/pandas-docs/stable/user_guide/indexing.html#returning-a-view-versus-a-copy\n",
      "  self._setitem_single_column(loc, value, pi)\n",
      "/home/akoksal/.local/lib/python3.8/site-packages/pandas/core/indexing.py:1719: SettingWithCopyWarning: \n",
      "A value is trying to be set on a copy of a slice from a DataFrame.\n",
      "Try using .loc[row_indexer,col_indexer] = value instead\n",
      "\n",
      "See the caveats in the documentation: https://pandas.pydata.org/pandas-docs/stable/user_guide/indexing.html#returning-a-view-versus-a-copy\n",
      "  self._setitem_single_column(loc, value, pi)\n",
      "/home/akoksal/.local/lib/python3.8/site-packages/pandas/core/indexing.py:1719: SettingWithCopyWarning: \n",
      "A value is trying to be set on a copy of a slice from a DataFrame.\n",
      "Try using .loc[row_indexer,col_indexer] = value instead\n",
      "\n",
      "See the caveats in the documentation: https://pandas.pydata.org/pandas-docs/stable/user_guide/indexing.html#returning-a-view-versus-a-copy\n",
      "  self._setitem_single_column(loc, value, pi)\n",
      "/home/akoksal/.local/lib/python3.8/site-packages/pandas/core/indexing.py:1719: SettingWithCopyWarning: \n",
      "A value is trying to be set on a copy of a slice from a DataFrame.\n",
      "Try using .loc[row_indexer,col_indexer] = value instead\n",
      "\n",
      "See the caveats in the documentation: https://pandas.pydata.org/pandas-docs/stable/user_guide/indexing.html#returning-a-view-versus-a-copy\n",
      "  self._setitem_single_column(loc, value, pi)\n",
      "../src/data/preprocess.py:184: SettingWithCopyWarning: \n",
      "A value is trying to be set on a copy of a slice from a DataFrame.\n",
      "Try using .loc[row_indexer,col_indexer] = value instead\n",
      "\n",
      "See the caveats in the documentation: https://pandas.pydata.org/pandas-docs/stable/user_guide/indexing.html#returning-a-view-versus-a-copy\n",
      "  df_labeled_relation_sentence['is_relation'] = 1\n"
     ]
    },
    {
     "name": "stdout",
     "output_type": "stream",
     "text": [
      "18046\n"
     ]
    },
    {
     "data": {
      "text/html": [
       "<div>\n",
       "<style scoped>\n",
       "    .dataframe tbody tr th:only-of-type {\n",
       "        vertical-align: middle;\n",
       "    }\n",
       "\n",
       "    .dataframe tbody tr th {\n",
       "        vertical-align: top;\n",
       "    }\n",
       "\n",
       "    .dataframe thead th {\n",
       "        text-align: right;\n",
       "    }\n",
       "</style>\n",
       "<table border=\"1\" class=\"dataframe\">\n",
       "  <thead>\n",
       "    <tr style=\"text-align: right;\">\n",
       "      <th></th>\n",
       "      <th>article_id</th>\n",
       "      <th>sent_id</th>\n",
       "      <th>sentence</th>\n",
       "      <th>start_index</th>\n",
       "      <th>end_index</th>\n",
       "      <th>arg1</th>\n",
       "      <th>entity_mention_1</th>\n",
       "      <th>start_offset_1</th>\n",
       "      <th>end_offset_1</th>\n",
       "      <th>type_1</th>\n",
       "      <th>...</th>\n",
       "      <th>ARG1</th>\n",
       "      <th>ARG2</th>\n",
       "      <th>ARG1_num</th>\n",
       "      <th>ARG2_num</th>\n",
       "      <th>label</th>\n",
       "      <th>chem_1</th>\n",
       "      <th>chem_2</th>\n",
       "      <th>pro_1</th>\n",
       "      <th>pro_2</th>\n",
       "      <th>changed_sent</th>\n",
       "    </tr>\n",
       "  </thead>\n",
       "  <tbody>\n",
       "    <tr>\n",
       "      <th>0</th>\n",
       "      <td>16357751</td>\n",
       "      <td>6</td>\n",
       "      <td>Recent studies have provided consistent eviden...</td>\n",
       "      <td>1137</td>\n",
       "      <td>1395</td>\n",
       "      <td>T1</td>\n",
       "      <td>methotrexate</td>\n",
       "      <td>1342.0</td>\n",
       "      <td>1354.0</td>\n",
       "      <td>CHEMICAL</td>\n",
       "      <td>...</td>\n",
       "      <td>Arg1:T1</td>\n",
       "      <td>Arg2:T2</td>\n",
       "      <td>1</td>\n",
       "      <td>2</td>\n",
       "      <td>11</td>\n",
       "      <td>204</td>\n",
       "      <td>216</td>\n",
       "      <td>226</td>\n",
       "      <td>247</td>\n",
       "      <td>Recent studies have provided consistent eviden...</td>\n",
       "    </tr>\n",
       "    <tr>\n",
       "      <th>1</th>\n",
       "      <td>14967461</td>\n",
       "      <td>8</td>\n",
       "      <td>Epidermal growth factor receptor inhibitors cu...</td>\n",
       "      <td>1174</td>\n",
       "      <td>1407</td>\n",
       "      <td>T1</td>\n",
       "      <td>gefitinib</td>\n",
       "      <td>1277.0</td>\n",
       "      <td>1286.0</td>\n",
       "      <td>CHEMICAL</td>\n",
       "      <td>...</td>\n",
       "      <td>Arg1:T1</td>\n",
       "      <td>Arg2:T22</td>\n",
       "      <td>1</td>\n",
       "      <td>22</td>\n",
       "      <td>4</td>\n",
       "      <td>102</td>\n",
       "      <td>111</td>\n",
       "      <td>0</td>\n",
       "      <td>32</td>\n",
       "      <td>&lt;e2&gt; Epidermal growth factor receptor &lt;/e2&gt;  ...</td>\n",
       "    </tr>\n",
       "    <tr>\n",
       "      <th>10</th>\n",
       "      <td>14967461</td>\n",
       "      <td>8</td>\n",
       "      <td>Epidermal growth factor receptor inhibitors cu...</td>\n",
       "      <td>1174</td>\n",
       "      <td>1407</td>\n",
       "      <td>T2</td>\n",
       "      <td>Iressa</td>\n",
       "      <td>1288.0</td>\n",
       "      <td>1294.0</td>\n",
       "      <td>CHEMICAL</td>\n",
       "      <td>...</td>\n",
       "      <td>Arg1:T2</td>\n",
       "      <td>Arg2:T22</td>\n",
       "      <td>2</td>\n",
       "      <td>22</td>\n",
       "      <td>4</td>\n",
       "      <td>113</td>\n",
       "      <td>119</td>\n",
       "      <td>0</td>\n",
       "      <td>32</td>\n",
       "      <td>&lt;e2&gt; Epidermal growth factor receptor &lt;/e2&gt;  ...</td>\n",
       "    </tr>\n",
       "    <tr>\n",
       "      <th>19</th>\n",
       "      <td>14967461</td>\n",
       "      <td>8</td>\n",
       "      <td>Epidermal growth factor receptor inhibitors cu...</td>\n",
       "      <td>1174</td>\n",
       "      <td>1407</td>\n",
       "      <td>T3</td>\n",
       "      <td>ZD1839</td>\n",
       "      <td>1296.0</td>\n",
       "      <td>1302.0</td>\n",
       "      <td>CHEMICAL</td>\n",
       "      <td>...</td>\n",
       "      <td>Arg1:T3</td>\n",
       "      <td>Arg2:T22</td>\n",
       "      <td>3</td>\n",
       "      <td>22</td>\n",
       "      <td>4</td>\n",
       "      <td>121</td>\n",
       "      <td>127</td>\n",
       "      <td>0</td>\n",
       "      <td>32</td>\n",
       "      <td>&lt;e2&gt; Epidermal growth factor receptor &lt;/e2&gt;  ...</td>\n",
       "    </tr>\n",
       "    <tr>\n",
       "      <th>28</th>\n",
       "      <td>14967461</td>\n",
       "      <td>8</td>\n",
       "      <td>Epidermal growth factor receptor inhibitors cu...</td>\n",
       "      <td>1174</td>\n",
       "      <td>1407</td>\n",
       "      <td>T4</td>\n",
       "      <td>erlotinib</td>\n",
       "      <td>1308.0</td>\n",
       "      <td>1317.0</td>\n",
       "      <td>CHEMICAL</td>\n",
       "      <td>...</td>\n",
       "      <td>Arg1:T4</td>\n",
       "      <td>Arg2:T22</td>\n",
       "      <td>4</td>\n",
       "      <td>22</td>\n",
       "      <td>4</td>\n",
       "      <td>133</td>\n",
       "      <td>142</td>\n",
       "      <td>0</td>\n",
       "      <td>32</td>\n",
       "      <td>&lt;e2&gt; Epidermal growth factor receptor &lt;/e2&gt;  ...</td>\n",
       "    </tr>\n",
       "  </tbody>\n",
       "</table>\n",
       "<p>5 rows × 29 columns</p>\n",
       "</div>"
      ],
      "text/plain": [
       "    article_id  sent_id                                           sentence  \\\n",
       "0     16357751        6  Recent studies have provided consistent eviden...   \n",
       "1     14967461        8  Epidermal growth factor receptor inhibitors cu...   \n",
       "10    14967461        8  Epidermal growth factor receptor inhibitors cu...   \n",
       "19    14967461        8  Epidermal growth factor receptor inhibitors cu...   \n",
       "28    14967461        8  Epidermal growth factor receptor inhibitors cu...   \n",
       "\n",
       "    start_index  end_index arg1 entity_mention_1  start_offset_1  \\\n",
       "0          1137       1395   T1     methotrexate          1342.0   \n",
       "1          1174       1407   T1        gefitinib          1277.0   \n",
       "10         1174       1407   T2           Iressa          1288.0   \n",
       "19         1174       1407   T3           ZD1839          1296.0   \n",
       "28         1174       1407   T4        erlotinib          1308.0   \n",
       "\n",
       "    end_offset_1    type_1  ...     ARG1      ARG2  ARG1_num  ARG2_num label  \\\n",
       "0         1354.0  CHEMICAL  ...  Arg1:T1   Arg2:T2         1         2    11   \n",
       "1         1286.0  CHEMICAL  ...  Arg1:T1  Arg2:T22         1        22     4   \n",
       "10        1294.0  CHEMICAL  ...  Arg1:T2  Arg2:T22         2        22     4   \n",
       "19        1302.0  CHEMICAL  ...  Arg1:T3  Arg2:T22         3        22     4   \n",
       "28        1317.0  CHEMICAL  ...  Arg1:T4  Arg2:T22         4        22     4   \n",
       "\n",
       "   chem_1 chem_2 pro_1  pro_2  \\\n",
       "0     204    216   226    247   \n",
       "1     102    111     0     32   \n",
       "10    113    119     0     32   \n",
       "19    121    127     0     32   \n",
       "28    133    142     0     32   \n",
       "\n",
       "                                         changed_sent  \n",
       "0   Recent studies have provided consistent eviden...  \n",
       "1    <e2> Epidermal growth factor receptor </e2>  ...  \n",
       "10   <e2> Epidermal growth factor receptor </e2>  ...  \n",
       "19   <e2> Epidermal growth factor receptor </e2>  ...  \n",
       "28   <e2> Epidermal growth factor receptor </e2>  ...  \n",
       "\n",
       "[5 rows x 29 columns]"
      ]
     },
     "execution_count": 27,
     "metadata": {},
     "output_type": "execute_result"
    }
   ],
   "source": [
    "df_final = pr.preprocess('train')\n",
    "print(len(df_final))\n",
    "df_final.head()"
   ]
  },
  {
   "cell_type": "markdown",
   "metadata": {},
   "source": [
    "Train BioBERT-based relation extraction model on biomedical data set"
   ]
  },
  {
   "cell_type": "code",
   "execution_count": 68,
   "metadata": {},
   "outputs": [
    {
     "name": "stderr",
     "output_type": "stream",
     "text": [
      "Epoch:   0%|          | 0/4 [00:00<?, ?it/s]"
     ]
    },
    {
     "name": "stdout",
     "output_type": "stream",
     "text": [
      "Loss:  0.5769571747098651\n",
      "Acc:  0.6173469387755102\n",
      "Micro F1:  0.61875\n",
      "Loss:  0.5323309838169753\n",
      "Acc:  0.6369949494949495\n",
      "Micro F1:  0.6375\n",
      "Loss:  0.5015170634192908\n",
      "Acc:  0.6673657718120806\n",
      "Micro F1:  0.6679166666666667\n",
      "Loss:  0.4779245603324181\n",
      "Acc:  0.6846733668341709\n",
      "Micro F1:  0.685\n",
      "Loss:  0.44867800385597717\n",
      "Acc:  0.7078313253012049\n",
      "Micro F1:  0.70725\n",
      "Loss:  0.4264776344133859\n",
      "Acc:  0.7259615384615384\n",
      "Micro F1:  0.7264583333333332\n",
      "Loss:  0.40977345908695784\n",
      "Acc:  0.7397922636103151\n",
      "Micro F1:  0.739642857142857\n",
      "Loss:  0.39980025040475947\n",
      "Acc:  0.7478070175438597\n",
      "Micro F1:  0.7478125\n",
      "Loss:  0.3906312045415154\n",
      "Acc:  0.755011135857461\n",
      "Micro F1:  0.755138888888889\n",
      "Loss:  0.3845180813857692\n",
      "Acc:  0.7588927855711423\n",
      "Micro F1:  0.759375\n",
      "Loss:  0.3730179113361353\n",
      "Acc:  0.76775956284153\n",
      "Micro F1:  0.7678409090909091\n",
      "Loss:  0.36579431548640007\n",
      "Acc:  0.7750417362270451\n",
      "Micro F1:  0.7754166666666665\n",
      "Loss:  0.3591034330129164\n",
      "Acc:  0.7812018489984591\n",
      "Micro F1:  0.7814423076923077\n",
      "Loss:  0.3538701246427279\n",
      "Acc:  0.7857653791130186\n",
      "Micro F1:  0.7859821428571429\n",
      "Loss:  0.3449417999255482\n",
      "Acc:  0.7922229639519359\n",
      "Micro F1:  0.7925\n",
      "Loss:  0.3376454348502231\n",
      "Acc:  0.7981070087609512\n",
      "Micro F1:  0.798203125\n",
      "Loss:  0.33341380405745463\n",
      "Acc:  0.8013103651354535\n",
      "Micro F1:  0.8014705882352942\n",
      "Loss:  0.32755405641056273\n",
      "Acc:  0.8058954393770856\n",
      "Micro F1:  0.8060416666666667\n",
      "Loss:  0.32182212780427005\n",
      "Acc:  0.8101290832455216\n",
      "Micro F1:  0.8101973684210526\n",
      "Loss:  0.3156811432303251\n",
      "Acc:  0.8141891891891891\n",
      "Micro F1:  0.8143125\n",
      "Loss:  0.3115483700369686\n",
      "Acc:  0.8178622497616778\n",
      "Micro F1:  0.8178571428571428\n",
      "Loss:  0.3067121450857914\n",
      "Acc:  0.8219404003639672\n",
      "Micro F1:  0.8221022727272728\n"
     ]
    },
    {
     "name": "stderr",
     "output_type": "stream",
     "text": [
      "/home/akoksal/.local/lib/python3.8/site-packages/numpy/core/fromnumeric.py:3334: RuntimeWarning: Mean of empty slice.\n",
      "  return _methods._mean(a, axis=axis, dtype=dtype,\n",
      "/home/akoksal/.local/lib/python3.8/site-packages/numpy/core/_methods.py:161: RuntimeWarning: invalid value encountered in double_scalars\n",
      "  ret = ret.dtype.type(ret / rcount)\n"
     ]
    },
    {
     "name": "stdout",
     "output_type": "stream",
     "text": [
      "Loss:  nan\n",
      "Acc:  nan\n",
      "Micro F1:  0.8712500000000001\n"
     ]
    },
    {
     "name": "stderr",
     "output_type": "stream",
     "text": [
      "/home/akoksal/.local/lib/python3.8/site-packages/numpy/core/fromnumeric.py:3334: RuntimeWarning: Mean of empty slice.\n",
      "  return _methods._mean(a, axis=axis, dtype=dtype,\n",
      "/home/akoksal/.local/lib/python3.8/site-packages/numpy/core/_methods.py:161: RuntimeWarning: invalid value encountered in double_scalars\n",
      "  ret = ret.dtype.type(ret / rcount)\n"
     ]
    },
    {
     "name": "stdout",
     "output_type": "stream",
     "text": [
      "Loss:  nan\n",
      "Acc:  nan\n",
      "Micro F1:  0.86125\n"
     ]
    },
    {
     "name": "stderr",
     "output_type": "stream",
     "text": [
      "/home/akoksal/.local/lib/python3.8/site-packages/numpy/core/fromnumeric.py:3334: RuntimeWarning: Mean of empty slice.\n",
      "  return _methods._mean(a, axis=axis, dtype=dtype,\n",
      "/home/akoksal/.local/lib/python3.8/site-packages/numpy/core/_methods.py:161: RuntimeWarning: invalid value encountered in double_scalars\n",
      "  ret = ret.dtype.type(ret / rcount)\n"
     ]
    },
    {
     "name": "stdout",
     "output_type": "stream",
     "text": [
      "Loss:  nan\n",
      "Acc:  nan\n",
      "Micro F1:  0.8645833333333333\n"
     ]
    },
    {
     "name": "stderr",
     "output_type": "stream",
     "text": [
      "/home/akoksal/.local/lib/python3.8/site-packages/numpy/core/fromnumeric.py:3334: RuntimeWarning: Mean of empty slice.\n",
      "  return _methods._mean(a, axis=axis, dtype=dtype,\n",
      "/home/akoksal/.local/lib/python3.8/site-packages/numpy/core/_methods.py:161: RuntimeWarning: invalid value encountered in double_scalars\n",
      "  ret = ret.dtype.type(ret / rcount)\n"
     ]
    },
    {
     "name": "stdout",
     "output_type": "stream",
     "text": [
      "Loss:  nan\n",
      "Acc:  nan\n",
      "Micro F1:  0.868125\n"
     ]
    },
    {
     "name": "stderr",
     "output_type": "stream",
     "text": [
      "/home/akoksal/.local/lib/python3.8/site-packages/numpy/core/fromnumeric.py:3334: RuntimeWarning: Mean of empty slice.\n",
      "  return _methods._mean(a, axis=axis, dtype=dtype,\n",
      "/home/akoksal/.local/lib/python3.8/site-packages/numpy/core/_methods.py:161: RuntimeWarning: invalid value encountered in double_scalars\n",
      "  ret = ret.dtype.type(ret / rcount)\n"
     ]
    },
    {
     "name": "stdout",
     "output_type": "stream",
     "text": [
      "Loss:  nan\n",
      "Acc:  nan\n",
      "Micro F1:  0.8655\n"
     ]
    },
    {
     "name": "stderr",
     "output_type": "stream",
     "text": [
      "/home/akoksal/.local/lib/python3.8/site-packages/numpy/core/fromnumeric.py:3334: RuntimeWarning: Mean of empty slice.\n",
      "  return _methods._mean(a, axis=axis, dtype=dtype,\n",
      "/home/akoksal/.local/lib/python3.8/site-packages/numpy/core/_methods.py:161: RuntimeWarning: invalid value encountered in double_scalars\n",
      "  ret = ret.dtype.type(ret / rcount)\n"
     ]
    },
    {
     "name": "stdout",
     "output_type": "stream",
     "text": [
      "Loss:  nan\n",
      "Acc:  nan\n",
      "Micro F1:  0.8627083333333333\n"
     ]
    },
    {
     "name": "stderr",
     "output_type": "stream",
     "text": [
      "/home/akoksal/.local/lib/python3.8/site-packages/numpy/core/fromnumeric.py:3334: RuntimeWarning: Mean of empty slice.\n",
      "  return _methods._mean(a, axis=axis, dtype=dtype,\n",
      "/home/akoksal/.local/lib/python3.8/site-packages/numpy/core/_methods.py:161: RuntimeWarning: invalid value encountered in double_scalars\n",
      "  ret = ret.dtype.type(ret / rcount)\n"
     ]
    },
    {
     "name": "stdout",
     "output_type": "stream",
     "text": [
      "Loss:  nan\n",
      "Acc:  nan\n",
      "Micro F1:  0.8630357142857142\n"
     ]
    },
    {
     "name": "stderr",
     "output_type": "stream",
     "text": [
      "/home/akoksal/.local/lib/python3.8/site-packages/numpy/core/fromnumeric.py:3334: RuntimeWarning: Mean of empty slice.\n",
      "  return _methods._mean(a, axis=axis, dtype=dtype,\n",
      "/home/akoksal/.local/lib/python3.8/site-packages/numpy/core/_methods.py:161: RuntimeWarning: invalid value encountered in double_scalars\n",
      "  ret = ret.dtype.type(ret / rcount)\n"
     ]
    },
    {
     "name": "stdout",
     "output_type": "stream",
     "text": [
      "Loss:  nan\n",
      "Acc:  nan\n",
      "Micro F1:  0.8640625\n"
     ]
    },
    {
     "name": "stderr",
     "output_type": "stream",
     "text": [
      "/home/akoksal/.local/lib/python3.8/site-packages/numpy/core/fromnumeric.py:3334: RuntimeWarning: Mean of empty slice.\n",
      "  return _methods._mean(a, axis=axis, dtype=dtype,\n",
      "/home/akoksal/.local/lib/python3.8/site-packages/numpy/core/_methods.py:161: RuntimeWarning: invalid value encountered in double_scalars\n",
      "  ret = ret.dtype.type(ret / rcount)\n"
     ]
    },
    {
     "name": "stdout",
     "output_type": "stream",
     "text": [
      "Loss:  nan\n",
      "Acc:  nan\n",
      "Micro F1:  0.8631944444444445\n"
     ]
    },
    {
     "name": "stderr",
     "output_type": "stream",
     "text": [
      "/home/akoksal/.local/lib/python3.8/site-packages/numpy/core/fromnumeric.py:3334: RuntimeWarning: Mean of empty slice.\n",
      "  return _methods._mean(a, axis=axis, dtype=dtype,\n",
      "/home/akoksal/.local/lib/python3.8/site-packages/numpy/core/_methods.py:161: RuntimeWarning: invalid value encountered in double_scalars\n",
      "  ret = ret.dtype.type(ret / rcount)\n"
     ]
    },
    {
     "name": "stdout",
     "output_type": "stream",
     "text": [
      "Loss:  nan\n",
      "Acc:  nan\n",
      "Micro F1:  0.86475\n"
     ]
    },
    {
     "name": "stderr",
     "output_type": "stream",
     "text": [
      "/home/akoksal/.local/lib/python3.8/site-packages/numpy/core/fromnumeric.py:3334: RuntimeWarning: Mean of empty slice.\n",
      "  return _methods._mean(a, axis=axis, dtype=dtype,\n",
      "/home/akoksal/.local/lib/python3.8/site-packages/numpy/core/_methods.py:161: RuntimeWarning: invalid value encountered in double_scalars\n",
      "  ret = ret.dtype.type(ret / rcount)\n"
     ]
    },
    {
     "name": "stdout",
     "output_type": "stream",
     "text": [
      "Loss:  nan\n",
      "Acc:  nan\n",
      "Micro F1:  0.8655681818181818\n"
     ]
    },
    {
     "name": "stderr",
     "output_type": "stream",
     "text": [
      "/home/akoksal/.local/lib/python3.8/site-packages/numpy/core/fromnumeric.py:3334: RuntimeWarning: Mean of empty slice.\n",
      "  return _methods._mean(a, axis=axis, dtype=dtype,\n",
      "/home/akoksal/.local/lib/python3.8/site-packages/numpy/core/_methods.py:161: RuntimeWarning: invalid value encountered in double_scalars\n",
      "  ret = ret.dtype.type(ret / rcount)\n"
     ]
    },
    {
     "name": "stdout",
     "output_type": "stream",
     "text": [
      "Loss:  nan\n",
      "Acc:  nan\n",
      "Micro F1:  0.8646874999999999\n"
     ]
    },
    {
     "name": "stderr",
     "output_type": "stream",
     "text": [
      "/home/akoksal/.local/lib/python3.8/site-packages/numpy/core/fromnumeric.py:3334: RuntimeWarning: Mean of empty slice.\n",
      "  return _methods._mean(a, axis=axis, dtype=dtype,\n",
      "/home/akoksal/.local/lib/python3.8/site-packages/numpy/core/_methods.py:161: RuntimeWarning: invalid value encountered in double_scalars\n",
      "  ret = ret.dtype.type(ret / rcount)\n"
     ]
    },
    {
     "name": "stdout",
     "output_type": "stream",
     "text": [
      "Loss:  nan\n",
      "Acc:  nan\n",
      "Micro F1:  0.8652884615384616\n"
     ]
    },
    {
     "name": "stderr",
     "output_type": "stream",
     "text": [
      "/home/akoksal/.local/lib/python3.8/site-packages/numpy/core/fromnumeric.py:3334: RuntimeWarning: Mean of empty slice.\n",
      "  return _methods._mean(a, axis=axis, dtype=dtype,\n",
      "/home/akoksal/.local/lib/python3.8/site-packages/numpy/core/_methods.py:161: RuntimeWarning: invalid value encountered in double_scalars\n",
      "  ret = ret.dtype.type(ret / rcount)\n"
     ]
    },
    {
     "name": "stdout",
     "output_type": "stream",
     "text": [
      "Loss:  nan\n",
      "Acc:  nan\n",
      "Micro F1:  0.8660714285714286\n",
      "Validation Accuracy: 0.8\n",
      "Validation Loss: 0.3928658664226532\n"
     ]
    },
    {
     "name": "stderr",
     "output_type": "stream",
     "text": [
      "Epoch:  25%|██▌       | 1/4 [13:21<40:05, 801.72s/it]"
     ]
    },
    {
     "name": "stdout",
     "output_type": "stream",
     "text": [
      "Loss:  0.13202410411773896\n",
      "Acc:  0.9477040816326531\n",
      "Micro F1:  0.94875\n",
      "Loss:  0.13233718048367235\n",
      "Acc:  0.9444444444444444\n",
      "Micro F1:  0.94375\n",
      "Loss:  0.12983574957630578\n",
      "Acc:  0.9446308724832215\n",
      "Micro F1:  0.9445833333333333\n",
      "Loss:  0.12863511846742437\n",
      "Acc:  0.9428391959798995\n",
      "Micro F1:  0.9428125\n",
      "Loss:  0.1344591073811533\n",
      "Acc:  0.9402610441767069\n",
      "Micro F1:  0.94\n",
      "Loss:  0.1351026631268769\n",
      "Acc:  0.9385451505016722\n",
      "Micro F1:  0.9385416666666667\n",
      "Loss:  0.13301118574022477\n",
      "Acc:  0.9396489971346705\n",
      "Micro F1:  0.9398214285714286\n",
      "Loss:  0.12990775594445772\n",
      "Acc:  0.9409461152882206\n",
      "Micro F1:  0.94109375\n",
      "Loss:  0.12913265053332185\n",
      "Acc:  0.941119153674833\n",
      "Micro F1:  0.9411111111111111\n",
      "Loss:  0.12586664839578654\n",
      "Acc:  0.9422595190380761\n",
      "Micro F1:  0.94225\n",
      "Loss:  0.12484508189957975\n",
      "Acc:  0.9433060109289617\n",
      "Micro F1:  0.9432954545454545\n",
      "Loss:  0.12470097465593001\n",
      "Acc:  0.9432387312186978\n",
      "Micro F1:  0.9432291666666667\n",
      "Loss:  0.124711947406546\n",
      "Acc:  0.9436633281972265\n",
      "Micro F1:  0.9433653846153847\n",
      "Loss:  0.12521265248217764\n",
      "Acc:  0.943401287553648\n",
      "Micro F1:  0.9433928571428571\n",
      "Loss:  0.1262393145397982\n",
      "Acc:  0.942673564753004\n",
      "Micro F1:  0.9425833333333333\n",
      "Loss:  0.12545975130890613\n",
      "Acc:  0.9429755944931164\n",
      "Micro F1:  0.9429687499999999\n",
      "Loss:  0.12612976151374822\n",
      "Acc:  0.9425795053003534\n",
      "Micro F1:  0.9425735294117648\n",
      "Loss:  0.125938673412015\n",
      "Acc:  0.9425055617352615\n",
      "Micro F1:  0.9424305555555555\n",
      "Loss:  0.12510370005273483\n",
      "Acc:  0.9428345626975764\n",
      "Micro F1:  0.9428947368421052\n",
      "Loss:  0.1251301357790164\n",
      "Acc:  0.9430680680680681\n",
      "Micro F1:  0.9430625000000001\n",
      "Loss:  0.12405460483365265\n",
      "Acc:  0.9435772163965681\n",
      "Micro F1:  0.9435714285714286\n",
      "Loss:  0.12326293945222673\n",
      "Acc:  0.9440969062784349\n",
      "Micro F1:  0.944034090909091\n"
     ]
    },
    {
     "name": "stderr",
     "output_type": "stream",
     "text": [
      "/home/akoksal/.local/lib/python3.8/site-packages/numpy/core/fromnumeric.py:3334: RuntimeWarning: Mean of empty slice.\n",
      "  return _methods._mean(a, axis=axis, dtype=dtype,\n",
      "/home/akoksal/.local/lib/python3.8/site-packages/numpy/core/_methods.py:161: RuntimeWarning: invalid value encountered in double_scalars\n",
      "  ret = ret.dtype.type(ret / rcount)\n"
     ]
    },
    {
     "name": "stdout",
     "output_type": "stream",
     "text": [
      "Loss:  nan\n",
      "Acc:  nan\n",
      "Micro F1:  0.855\n"
     ]
    },
    {
     "name": "stderr",
     "output_type": "stream",
     "text": [
      "/home/akoksal/.local/lib/python3.8/site-packages/numpy/core/fromnumeric.py:3334: RuntimeWarning: Mean of empty slice.\n",
      "  return _methods._mean(a, axis=axis, dtype=dtype,\n",
      "/home/akoksal/.local/lib/python3.8/site-packages/numpy/core/_methods.py:161: RuntimeWarning: invalid value encountered in double_scalars\n",
      "  ret = ret.dtype.type(ret / rcount)\n"
     ]
    },
    {
     "name": "stdout",
     "output_type": "stream",
     "text": [
      "Loss:  nan\n",
      "Acc:  nan\n",
      "Micro F1:  0.8599999999999999\n"
     ]
    },
    {
     "name": "stderr",
     "output_type": "stream",
     "text": [
      "/home/akoksal/.local/lib/python3.8/site-packages/numpy/core/fromnumeric.py:3334: RuntimeWarning: Mean of empty slice.\n",
      "  return _methods._mean(a, axis=axis, dtype=dtype,\n",
      "/home/akoksal/.local/lib/python3.8/site-packages/numpy/core/_methods.py:161: RuntimeWarning: invalid value encountered in double_scalars\n",
      "  ret = ret.dtype.type(ret / rcount)\n"
     ]
    },
    {
     "name": "stdout",
     "output_type": "stream",
     "text": [
      "Loss:  nan\n",
      "Acc:  nan\n",
      "Micro F1:  0.8633333333333333\n"
     ]
    },
    {
     "name": "stderr",
     "output_type": "stream",
     "text": [
      "/home/akoksal/.local/lib/python3.8/site-packages/numpy/core/fromnumeric.py:3334: RuntimeWarning: Mean of empty slice.\n",
      "  return _methods._mean(a, axis=axis, dtype=dtype,\n",
      "/home/akoksal/.local/lib/python3.8/site-packages/numpy/core/_methods.py:161: RuntimeWarning: invalid value encountered in double_scalars\n",
      "  ret = ret.dtype.type(ret / rcount)\n"
     ]
    },
    {
     "name": "stdout",
     "output_type": "stream",
     "text": [
      "Loss:  nan\n",
      "Acc:  nan\n",
      "Micro F1:  0.8671875\n"
     ]
    },
    {
     "name": "stderr",
     "output_type": "stream",
     "text": [
      "/home/akoksal/.local/lib/python3.8/site-packages/numpy/core/fromnumeric.py:3334: RuntimeWarning: Mean of empty slice.\n",
      "  return _methods._mean(a, axis=axis, dtype=dtype,\n",
      "/home/akoksal/.local/lib/python3.8/site-packages/numpy/core/_methods.py:161: RuntimeWarning: invalid value encountered in double_scalars\n",
      "  ret = ret.dtype.type(ret / rcount)\n"
     ]
    },
    {
     "name": "stdout",
     "output_type": "stream",
     "text": [
      "Loss:  nan\n",
      "Acc:  nan\n",
      "Micro F1:  0.869\n"
     ]
    },
    {
     "name": "stderr",
     "output_type": "stream",
     "text": [
      "/home/akoksal/.local/lib/python3.8/site-packages/numpy/core/fromnumeric.py:3334: RuntimeWarning: Mean of empty slice.\n",
      "  return _methods._mean(a, axis=axis, dtype=dtype,\n",
      "/home/akoksal/.local/lib/python3.8/site-packages/numpy/core/_methods.py:161: RuntimeWarning: invalid value encountered in double_scalars\n",
      "  ret = ret.dtype.type(ret / rcount)\n"
     ]
    },
    {
     "name": "stdout",
     "output_type": "stream",
     "text": [
      "Loss:  nan\n",
      "Acc:  nan\n",
      "Micro F1:  0.8691666666666665\n"
     ]
    },
    {
     "name": "stderr",
     "output_type": "stream",
     "text": [
      "/home/akoksal/.local/lib/python3.8/site-packages/numpy/core/fromnumeric.py:3334: RuntimeWarning: Mean of empty slice.\n",
      "  return _methods._mean(a, axis=axis, dtype=dtype,\n",
      "/home/akoksal/.local/lib/python3.8/site-packages/numpy/core/_methods.py:161: RuntimeWarning: invalid value encountered in double_scalars\n",
      "  ret = ret.dtype.type(ret / rcount)\n"
     ]
    },
    {
     "name": "stdout",
     "output_type": "stream",
     "text": [
      "Loss:  nan\n",
      "Acc:  nan\n",
      "Micro F1:  0.8698214285714285\n"
     ]
    },
    {
     "name": "stderr",
     "output_type": "stream",
     "text": [
      "/home/akoksal/.local/lib/python3.8/site-packages/numpy/core/fromnumeric.py:3334: RuntimeWarning: Mean of empty slice.\n",
      "  return _methods._mean(a, axis=axis, dtype=dtype,\n",
      "/home/akoksal/.local/lib/python3.8/site-packages/numpy/core/_methods.py:161: RuntimeWarning: invalid value encountered in double_scalars\n",
      "  ret = ret.dtype.type(ret / rcount)\n"
     ]
    },
    {
     "name": "stdout",
     "output_type": "stream",
     "text": [
      "Loss:  nan\n",
      "Acc:  nan\n",
      "Micro F1:  0.8728125\n"
     ]
    },
    {
     "name": "stderr",
     "output_type": "stream",
     "text": [
      "/home/akoksal/.local/lib/python3.8/site-packages/numpy/core/fromnumeric.py:3334: RuntimeWarning: Mean of empty slice.\n",
      "  return _methods._mean(a, axis=axis, dtype=dtype,\n",
      "/home/akoksal/.local/lib/python3.8/site-packages/numpy/core/_methods.py:161: RuntimeWarning: invalid value encountered in double_scalars\n",
      "  ret = ret.dtype.type(ret / rcount)\n"
     ]
    },
    {
     "name": "stdout",
     "output_type": "stream",
     "text": [
      "Loss:  nan\n",
      "Acc:  nan\n",
      "Micro F1:  0.8723611111111111\n"
     ]
    },
    {
     "name": "stderr",
     "output_type": "stream",
     "text": [
      "/home/akoksal/.local/lib/python3.8/site-packages/numpy/core/fromnumeric.py:3334: RuntimeWarning: Mean of empty slice.\n",
      "  return _methods._mean(a, axis=axis, dtype=dtype,\n",
      "/home/akoksal/.local/lib/python3.8/site-packages/numpy/core/_methods.py:161: RuntimeWarning: invalid value encountered in double_scalars\n",
      "  ret = ret.dtype.type(ret / rcount)\n"
     ]
    },
    {
     "name": "stdout",
     "output_type": "stream",
     "text": [
      "Loss:  nan\n",
      "Acc:  nan\n",
      "Micro F1:  0.872\n"
     ]
    },
    {
     "name": "stderr",
     "output_type": "stream",
     "text": [
      "/home/akoksal/.local/lib/python3.8/site-packages/numpy/core/fromnumeric.py:3334: RuntimeWarning: Mean of empty slice.\n",
      "  return _methods._mean(a, axis=axis, dtype=dtype,\n",
      "/home/akoksal/.local/lib/python3.8/site-packages/numpy/core/_methods.py:161: RuntimeWarning: invalid value encountered in double_scalars\n",
      "  ret = ret.dtype.type(ret / rcount)\n"
     ]
    },
    {
     "name": "stdout",
     "output_type": "stream",
     "text": [
      "Loss:  nan\n",
      "Acc:  nan\n",
      "Micro F1:  0.8723863636363638\n"
     ]
    },
    {
     "name": "stderr",
     "output_type": "stream",
     "text": [
      "/home/akoksal/.local/lib/python3.8/site-packages/numpy/core/fromnumeric.py:3334: RuntimeWarning: Mean of empty slice.\n",
      "  return _methods._mean(a, axis=axis, dtype=dtype,\n",
      "/home/akoksal/.local/lib/python3.8/site-packages/numpy/core/_methods.py:161: RuntimeWarning: invalid value encountered in double_scalars\n",
      "  ret = ret.dtype.type(ret / rcount)\n"
     ]
    },
    {
     "name": "stdout",
     "output_type": "stream",
     "text": [
      "Loss:  nan\n",
      "Acc:  nan\n",
      "Micro F1:  0.8715625\n"
     ]
    },
    {
     "name": "stderr",
     "output_type": "stream",
     "text": [
      "/home/akoksal/.local/lib/python3.8/site-packages/numpy/core/fromnumeric.py:3334: RuntimeWarning: Mean of empty slice.\n",
      "  return _methods._mean(a, axis=axis, dtype=dtype,\n",
      "/home/akoksal/.local/lib/python3.8/site-packages/numpy/core/_methods.py:161: RuntimeWarning: invalid value encountered in double_scalars\n",
      "  ret = ret.dtype.type(ret / rcount)\n"
     ]
    },
    {
     "name": "stdout",
     "output_type": "stream",
     "text": [
      "Loss:  nan\n",
      "Acc:  nan\n",
      "Micro F1:  0.8707692307692307\n"
     ]
    },
    {
     "name": "stderr",
     "output_type": "stream",
     "text": [
      "/home/akoksal/.local/lib/python3.8/site-packages/numpy/core/fromnumeric.py:3334: RuntimeWarning: Mean of empty slice.\n",
      "  return _methods._mean(a, axis=axis, dtype=dtype,\n",
      "/home/akoksal/.local/lib/python3.8/site-packages/numpy/core/_methods.py:161: RuntimeWarning: invalid value encountered in double_scalars\n",
      "  ret = ret.dtype.type(ret / rcount)\n"
     ]
    },
    {
     "name": "stdout",
     "output_type": "stream",
     "text": [
      "Loss:  nan\n",
      "Acc:  nan\n",
      "Micro F1:  0.8701785714285716\n",
      "Validation Accuracy: 1.0\n",
      "Validation Loss: 0.09305687993764877\n"
     ]
    },
    {
     "name": "stderr",
     "output_type": "stream",
     "text": [
      "Epoch:  50%|█████     | 2/4 [26:57<26:51, 805.98s/it]"
     ]
    },
    {
     "name": "stdout",
     "output_type": "stream",
     "text": [
      "Loss:  0.054405661394857634\n",
      "Acc:  0.9783163265306123\n",
      "Micro F1:  0.9775\n",
      "Loss:  0.06313951265518412\n",
      "Acc:  0.9753787878787878\n",
      "Micro F1:  0.975625\n",
      "Loss:  0.061390218659360334\n",
      "Acc:  0.9773489932885906\n",
      "Micro F1:  0.9770833333333333\n",
      "Loss:  0.06441634302916725\n",
      "Acc:  0.9751884422110553\n",
      "Micro F1:  0.9753125\n",
      "Loss:  0.06439779745882385\n",
      "Acc:  0.9738955823293173\n",
      "Micro F1:  0.974\n",
      "Loss:  0.06412467581257349\n",
      "Acc:  0.9738712374581939\n",
      "Micro F1:  0.97375\n",
      "Loss:  0.06297329456123782\n",
      "Acc:  0.9742120343839542\n",
      "Micro F1:  0.9742857142857143\n",
      "Loss:  0.06198021573630771\n",
      "Acc:  0.974624060150376\n",
      "Micro F1:  0.9746875\n",
      "Loss:  0.05981725360420356\n",
      "Acc:  0.9752227171492205\n",
      "Micro F1:  0.9752777777777778\n",
      "Loss:  0.059499590364163496\n",
      "Acc:  0.9752004008016032\n",
      "Micro F1:  0.97525\n",
      "Loss:  0.05795868956980097\n",
      "Acc:  0.975523679417122\n",
      "Micro F1:  0.9755681818181818\n",
      "Loss:  0.05914050556166573\n",
      "Acc:  0.9755843071786311\n",
      "Micro F1:  0.975625\n",
      "Loss:  0.05829310250839503\n",
      "Acc:  0.975924499229584\n",
      "Micro F1:  0.9758653846153846\n",
      "Loss:  0.05836827117261558\n",
      "Acc:  0.9763054363376252\n",
      "Micro F1:  0.9763392857142857\n",
      "Loss:  0.059163329073225454\n",
      "Acc:  0.9760514018691588\n",
      "Micro F1:  0.976\n",
      "Loss:  0.059628880453512806\n",
      "Acc:  0.976063829787234\n",
      "Micro F1:  0.97609375\n",
      "Loss:  0.05830810030111089\n",
      "Acc:  0.9766637220259128\n",
      "Micro F1:  0.9766911764705882\n",
      "Loss:  0.05702479596592142\n",
      "Acc:  0.9773359288097887\n",
      "Micro F1:  0.9773611111111111\n",
      "Loss:  0.05670820106960758\n",
      "Acc:  0.9773445732349842\n",
      "Micro F1:  0.9773026315789474\n",
      "Loss:  0.05701724881596688\n",
      "Acc:  0.9772272272272272\n",
      "Micro F1:  0.97725\n",
      "Loss:  0.05758789147361776\n",
      "Acc:  0.976882745471878\n",
      "Micro F1:  0.9769047619047619\n",
      "Loss:  0.05735608769631144\n",
      "Acc:  0.9769108280254777\n",
      "Micro F1:  0.9769318181818182\n"
     ]
    },
    {
     "name": "stderr",
     "output_type": "stream",
     "text": [
      "/home/akoksal/.local/lib/python3.8/site-packages/numpy/core/fromnumeric.py:3334: RuntimeWarning: Mean of empty slice.\n",
      "  return _methods._mean(a, axis=axis, dtype=dtype,\n",
      "/home/akoksal/.local/lib/python3.8/site-packages/numpy/core/_methods.py:161: RuntimeWarning: invalid value encountered in double_scalars\n",
      "  ret = ret.dtype.type(ret / rcount)\n"
     ]
    },
    {
     "name": "stdout",
     "output_type": "stream",
     "text": [
      "Loss:  nan\n",
      "Acc:  nan\n",
      "Micro F1:  0.87625\n"
     ]
    },
    {
     "name": "stderr",
     "output_type": "stream",
     "text": [
      "/home/akoksal/.local/lib/python3.8/site-packages/numpy/core/fromnumeric.py:3334: RuntimeWarning: Mean of empty slice.\n",
      "  return _methods._mean(a, axis=axis, dtype=dtype,\n",
      "/home/akoksal/.local/lib/python3.8/site-packages/numpy/core/_methods.py:161: RuntimeWarning: invalid value encountered in double_scalars\n",
      "  ret = ret.dtype.type(ret / rcount)\n"
     ]
    },
    {
     "name": "stdout",
     "output_type": "stream",
     "text": [
      "Loss:  nan\n",
      "Acc:  nan\n",
      "Micro F1:  0.8856249999999999\n"
     ]
    },
    {
     "name": "stderr",
     "output_type": "stream",
     "text": [
      "/home/akoksal/.local/lib/python3.8/site-packages/numpy/core/fromnumeric.py:3334: RuntimeWarning: Mean of empty slice.\n",
      "  return _methods._mean(a, axis=axis, dtype=dtype,\n",
      "/home/akoksal/.local/lib/python3.8/site-packages/numpy/core/_methods.py:161: RuntimeWarning: invalid value encountered in double_scalars\n",
      "  ret = ret.dtype.type(ret / rcount)\n"
     ]
    },
    {
     "name": "stdout",
     "output_type": "stream",
     "text": [
      "Loss:  nan\n",
      "Acc:  nan\n",
      "Micro F1:  0.8816666666666667\n"
     ]
    },
    {
     "name": "stderr",
     "output_type": "stream",
     "text": [
      "/home/akoksal/.local/lib/python3.8/site-packages/numpy/core/fromnumeric.py:3334: RuntimeWarning: Mean of empty slice.\n",
      "  return _methods._mean(a, axis=axis, dtype=dtype,\n",
      "/home/akoksal/.local/lib/python3.8/site-packages/numpy/core/_methods.py:161: RuntimeWarning: invalid value encountered in double_scalars\n",
      "  ret = ret.dtype.type(ret / rcount)\n"
     ]
    },
    {
     "name": "stdout",
     "output_type": "stream",
     "text": [
      "Loss:  nan\n",
      "Acc:  nan\n",
      "Micro F1:  0.88125\n"
     ]
    },
    {
     "name": "stderr",
     "output_type": "stream",
     "text": [
      "Epoch:  50%|█████     | 2/4 [36:20<36:20, 1090.01s/it]\n"
     ]
    },
    {
     "ename": "KeyboardInterrupt",
     "evalue": "",
     "output_type": "error",
     "traceback": [
      "\u001b[0;31m---------------------------------------------------------------------------\u001b[0m",
      "\u001b[0;31mKeyboardInterrupt\u001b[0m                         Traceback (most recent call last)",
      "\u001b[0;32m<ipython-input-68-0f7fcd090f91>\u001b[0m in \u001b[0;36m<module>\u001b[0;34m\u001b[0m\n\u001b[0;32m----> 1\u001b[0;31m \u001b[0mclf\u001b[0m\u001b[0;34m.\u001b[0m\u001b[0mtrain_model\u001b[0m\u001b[0;34m(\u001b[0m\u001b[0;34m''\u001b[0m\u001b[0;34m,\u001b[0m\u001b[0;34m'12092020'\u001b[0m\u001b[0;34m,\u001b[0m \u001b[0msave_dir\u001b[0m \u001b[0;34m=\u001b[0m \u001b[0;34m\"../models/model_28082020_2_classes.pt\"\u001b[0m\u001b[0;34m,\u001b[0m \u001b[0mlearning_rate\u001b[0m\u001b[0;34m=\u001b[0m\u001b[0;36m0.00002\u001b[0m\u001b[0;34m,\u001b[0m \u001b[0mwd\u001b[0m\u001b[0;34m=\u001b[0m\u001b[0;36m0.3\u001b[0m\u001b[0;34m)\u001b[0m\u001b[0;34m\u001b[0m\u001b[0;34m\u001b[0m\u001b[0m\n\u001b[0m",
      "\u001b[0;32m/extra_space/Hilal/Hilal/binary_relation_extraction/src/models/train_binary_classification.py\u001b[0m in \u001b[0;36mtrain_model\u001b[0;34m(folder_name, file_date, save_dir, learning_rate, wd)\u001b[0m\n\u001b[1;32m    175\u001b[0m \u001b[0;34m\u001b[0m\u001b[0m\n\u001b[1;32m    176\u001b[0m                     \u001b[0m_\u001b[0m\u001b[0;34m,\u001b[0m \u001b[0mpredicted\u001b[0m \u001b[0;34m=\u001b[0m \u001b[0mtorch\u001b[0m\u001b[0;34m.\u001b[0m\u001b[0mmax\u001b[0m\u001b[0;34m(\u001b[0m\u001b[0mpred_labels\u001b[0m\u001b[0;34m.\u001b[0m\u001b[0mdata\u001b[0m\u001b[0;34m,\u001b[0m \u001b[0;36m1\u001b[0m\u001b[0;34m)\u001b[0m\u001b[0;34m\u001b[0m\u001b[0;34m\u001b[0m\u001b[0m\n\u001b[0;32m--> 177\u001b[0;31m                     \u001b[0macc\u001b[0m \u001b[0;34m=\u001b[0m \u001b[0;34m(\u001b[0m\u001b[0mpredicted\u001b[0m \u001b[0;34m==\u001b[0m \u001b[0mb_labels\u001b[0m\u001b[0;34m)\u001b[0m\u001b[0;34m.\u001b[0m\u001b[0msum\u001b[0m\u001b[0;34m(\u001b[0m\u001b[0;34m)\u001b[0m\u001b[0;34m.\u001b[0m\u001b[0mitem\u001b[0m\u001b[0;34m(\u001b[0m\u001b[0;34m)\u001b[0m \u001b[0;34m/\u001b[0m \u001b[0mlen\u001b[0m\u001b[0;34m(\u001b[0m\u001b[0mpredicted\u001b[0m\u001b[0;34m)\u001b[0m\u001b[0;34m\u001b[0m\u001b[0;34m\u001b[0m\u001b[0m\n\u001b[0m\u001b[1;32m    178\u001b[0m                     \u001b[0mval_preds\u001b[0m \u001b[0;34m=\u001b[0m \u001b[0mval_preds\u001b[0m \u001b[0;34m+\u001b[0m \u001b[0mpredicted\u001b[0m\u001b[0;34m.\u001b[0m\u001b[0mtolist\u001b[0m\u001b[0;34m(\u001b[0m\u001b[0;34m)\u001b[0m\u001b[0;34m\u001b[0m\u001b[0;34m\u001b[0m\u001b[0m\n\u001b[1;32m    179\u001b[0m                     \u001b[0mval_label\u001b[0m \u001b[0;34m=\u001b[0m \u001b[0mval_label\u001b[0m \u001b[0;34m+\u001b[0m \u001b[0mb_labels\u001b[0m\u001b[0;34m.\u001b[0m\u001b[0mtolist\u001b[0m\u001b[0;34m(\u001b[0m\u001b[0;34m)\u001b[0m\u001b[0;34m\u001b[0m\u001b[0;34m\u001b[0m\u001b[0m\n",
      "\u001b[0;31mKeyboardInterrupt\u001b[0m: "
     ]
    }
   ],
   "source": [
    "clf.train_model('','12092020', save_dir = \"../models/model_28082020_2_classes.pt\", learning_rate=0.00002, wd=0.3)"
   ]
  },
  {
   "cell_type": "markdown",
   "metadata": {},
   "source": [
    "## Predict relations between chemical and protein entities with the trained model"
   ]
  },
  {
   "cell_type": "code",
   "execution_count": 10,
   "metadata": {},
   "outputs": [
    {
     "data": {
      "text/html": [
       "<div>\n",
       "<style scoped>\n",
       "    .dataframe tbody tr th:only-of-type {\n",
       "        vertical-align: middle;\n",
       "    }\n",
       "\n",
       "    .dataframe tbody tr th {\n",
       "        vertical-align: top;\n",
       "    }\n",
       "\n",
       "    .dataframe thead th {\n",
       "        text-align: right;\n",
       "    }\n",
       "</style>\n",
       "<table border=\"1\" class=\"dataframe\">\n",
       "  <thead>\n",
       "    <tr style=\"text-align: right;\">\n",
       "      <th></th>\n",
       "      <th>article_id</th>\n",
       "      <th>sent_id</th>\n",
       "      <th>sentence</th>\n",
       "      <th>start_index</th>\n",
       "      <th>end_index</th>\n",
       "      <th>arg1</th>\n",
       "      <th>entity_mention_1</th>\n",
       "      <th>start_offset_1</th>\n",
       "      <th>end_offset_1</th>\n",
       "      <th>type_1</th>\n",
       "      <th>...</th>\n",
       "      <th>ARG2</th>\n",
       "      <th>ARG1_num</th>\n",
       "      <th>ARG2_num</th>\n",
       "      <th>label</th>\n",
       "      <th>diff_chem_1</th>\n",
       "      <th>diff_chem_2</th>\n",
       "      <th>diff_pro_1</th>\n",
       "      <th>diff_pro_2</th>\n",
       "      <th>changed_sent</th>\n",
       "      <th>Pred</th>\n",
       "    </tr>\n",
       "  </thead>\n",
       "  <tbody>\n",
       "    <tr>\n",
       "      <th>0</th>\n",
       "      <td>10076535</td>\n",
       "      <td>0</td>\n",
       "      <td>Androgen antagonistic effect of estramustine p...</td>\n",
       "      <td>0</td>\n",
       "      <td>115</td>\n",
       "      <td>T44</td>\n",
       "      <td>Androgen</td>\n",
       "      <td>0.0</td>\n",
       "      <td>8.0</td>\n",
       "      <td>CHEMICAL</td>\n",
       "      <td>...</td>\n",
       "      <td>Arg2:T63</td>\n",
       "      <td>44</td>\n",
       "      <td>63</td>\n",
       "      <td>6</td>\n",
       "      <td>0</td>\n",
       "      <td>8</td>\n",
       "      <td>98</td>\n",
       "      <td>115</td>\n",
       "      <td>&lt;e1&gt; Androgen &lt;/e1&gt;  antagonistic effect of e...</td>\n",
       "      <td>0</td>\n",
       "    </tr>\n",
       "    <tr>\n",
       "      <th>1</th>\n",
       "      <td>10076535</td>\n",
       "      <td>0</td>\n",
       "      <td>Androgen antagonistic effect of estramustine p...</td>\n",
       "      <td>0</td>\n",
       "      <td>115</td>\n",
       "      <td>T45</td>\n",
       "      <td>estramustine phosphate</td>\n",
       "      <td>32.0</td>\n",
       "      <td>54.0</td>\n",
       "      <td>CHEMICAL</td>\n",
       "      <td>...</td>\n",
       "      <td>Arg2:T63</td>\n",
       "      <td>45</td>\n",
       "      <td>63</td>\n",
       "      <td>6</td>\n",
       "      <td>32</td>\n",
       "      <td>54</td>\n",
       "      <td>98</td>\n",
       "      <td>115</td>\n",
       "      <td>Androgen antagonistic effect of  &lt;e1&gt; estramus...</td>\n",
       "      <td>1</td>\n",
       "    </tr>\n",
       "    <tr>\n",
       "      <th>2</th>\n",
       "      <td>10076535</td>\n",
       "      <td>0</td>\n",
       "      <td>Androgen antagonistic effect of estramustine p...</td>\n",
       "      <td>0</td>\n",
       "      <td>115</td>\n",
       "      <td>T46</td>\n",
       "      <td>EMP</td>\n",
       "      <td>56.0</td>\n",
       "      <td>59.0</td>\n",
       "      <td>CHEMICAL</td>\n",
       "      <td>...</td>\n",
       "      <td>Arg2:T63</td>\n",
       "      <td>46</td>\n",
       "      <td>63</td>\n",
       "      <td>6</td>\n",
       "      <td>56</td>\n",
       "      <td>59</td>\n",
       "      <td>98</td>\n",
       "      <td>115</td>\n",
       "      <td>Androgen antagonistic effect of estramustine p...</td>\n",
       "      <td>1</td>\n",
       "    </tr>\n",
       "    <tr>\n",
       "      <th>3</th>\n",
       "      <td>10076535</td>\n",
       "      <td>0</td>\n",
       "      <td>Androgen antagonistic effect of estramustine p...</td>\n",
       "      <td>0</td>\n",
       "      <td>115</td>\n",
       "      <td>T47</td>\n",
       "      <td>androgen</td>\n",
       "      <td>98.0</td>\n",
       "      <td>106.0</td>\n",
       "      <td>CHEMICAL</td>\n",
       "      <td>...</td>\n",
       "      <td>Arg2:T63</td>\n",
       "      <td>47</td>\n",
       "      <td>63</td>\n",
       "      <td>11</td>\n",
       "      <td>98</td>\n",
       "      <td>106</td>\n",
       "      <td>98</td>\n",
       "      <td>115</td>\n",
       "      <td>Androgen antagonistic effect of estramustine p...</td>\n",
       "      <td>0</td>\n",
       "    </tr>\n",
       "    <tr>\n",
       "      <th>4</th>\n",
       "      <td>10076535</td>\n",
       "      <td>6</td>\n",
       "      <td>We investigated, by displacement of [3H]methyl...</td>\n",
       "      <td>600</td>\n",
       "      <td>1098</td>\n",
       "      <td>T32</td>\n",
       "      <td>[3H]methyltrienolone</td>\n",
       "      <td>637.0</td>\n",
       "      <td>657.0</td>\n",
       "      <td>CHEMICAL</td>\n",
       "      <td>...</td>\n",
       "      <td>Arg2:T59</td>\n",
       "      <td>32</td>\n",
       "      <td>59</td>\n",
       "      <td>11</td>\n",
       "      <td>36</td>\n",
       "      <td>56</td>\n",
       "      <td>342</td>\n",
       "      <td>359</td>\n",
       "      <td>We investigated, by displacement of  &lt;e1&gt; [3H]...</td>\n",
       "      <td>0</td>\n",
       "    </tr>\n",
       "  </tbody>\n",
       "</table>\n",
       "<p>5 rows × 30 columns</p>\n",
       "</div>"
      ],
      "text/plain": [
       "   article_id  sent_id                                           sentence  \\\n",
       "0    10076535        0  Androgen antagonistic effect of estramustine p...   \n",
       "1    10076535        0  Androgen antagonistic effect of estramustine p...   \n",
       "2    10076535        0  Androgen antagonistic effect of estramustine p...   \n",
       "3    10076535        0  Androgen antagonistic effect of estramustine p...   \n",
       "4    10076535        6  We investigated, by displacement of [3H]methyl...   \n",
       "\n",
       "   start_index  end_index arg1        entity_mention_1  start_offset_1  \\\n",
       "0            0        115  T44                Androgen             0.0   \n",
       "1            0        115  T45  estramustine phosphate            32.0   \n",
       "2            0        115  T46                     EMP            56.0   \n",
       "3            0        115  T47                androgen            98.0   \n",
       "4          600       1098  T32    [3H]methyltrienolone           637.0   \n",
       "\n",
       "   end_offset_1    type_1  ...      ARG2 ARG1_num  ARG2_num  label  \\\n",
       "0           8.0  CHEMICAL  ...  Arg2:T63       44        63      6   \n",
       "1          54.0  CHEMICAL  ...  Arg2:T63       45        63      6   \n",
       "2          59.0  CHEMICAL  ...  Arg2:T63       46        63      6   \n",
       "3         106.0  CHEMICAL  ...  Arg2:T63       47        63     11   \n",
       "4         657.0  CHEMICAL  ...  Arg2:T59       32        59     11   \n",
       "\n",
       "  diff_chem_1 diff_chem_2 diff_pro_1 diff_pro_2  \\\n",
       "0           0           8         98        115   \n",
       "1          32          54         98        115   \n",
       "2          56          59         98        115   \n",
       "3          98         106         98        115   \n",
       "4          36          56        342        359   \n",
       "\n",
       "                                        changed_sent Pred  \n",
       "0   <e1> Androgen </e1>  antagonistic effect of e...    0  \n",
       "1  Androgen antagonistic effect of  <e1> estramus...    1  \n",
       "2  Androgen antagonistic effect of estramustine p...    1  \n",
       "3  Androgen antagonistic effect of estramustine p...    0  \n",
       "4  We investigated, by displacement of  <e1> [3H]...    0  \n",
       "\n",
       "[5 rows x 30 columns]"
      ]
     },
     "execution_count": 10,
     "metadata": {},
     "output_type": "execute_result"
    }
   ],
   "source": [
    "write_file = 'test_class_2_30082021'\n",
    "df_pred = pred.prediction(write_file, save_dir=\"../models/model_28082020_2_classes.pt\", batch_size=16)\n",
    "df_pred.head()"
   ]
  }
 ],
 "metadata": {
  "kernelspec": {
   "display_name": "Python 3",
   "language": "python",
   "name": "python3"
  },
  "language_info": {
   "codemirror_mode": {
    "name": "ipython",
    "version": 3
   },
   "file_extension": ".py",
   "mimetype": "text/x-python",
   "name": "python",
   "nbconvert_exporter": "python",
   "pygments_lexer": "ipython3",
   "version": "3.7.1"
  }
 },
 "nbformat": 4,
 "nbformat_minor": 4
}
